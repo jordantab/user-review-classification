{
  "nbformat": 4,
  "nbformat_minor": 0,
  "metadata": {
    "colab": {
      "provenance": [],
      "authorship_tag": "ABX9TyM39m0+rhfLB+n/aa/7cQne",
      "include_colab_link": true
    },
    "kernelspec": {
      "name": "python3",
      "display_name": "Python 3"
    },
    "language_info": {
      "name": "python"
    }
  },
  "cells": [
    {
      "cell_type": "markdown",
      "metadata": {
        "id": "view-in-github",
        "colab_type": "text"
      },
      "source": [
        "<a href=\"https://colab.research.google.com/github/jordantab/user-review-classification/blob/main/user_review_classification.ipynb\" target=\"_parent\"><img src=\"https://colab.research.google.com/assets/colab-badge.svg\" alt=\"Open In Colab\"/></a>"
      ]
    },
    {
      "cell_type": "code",
      "execution_count": 1,
      "metadata": {
        "id": "ziaVm0h5lcnK"
      },
      "outputs": [],
      "source": [
        "import json\n",
        "\n",
        "\n",
        "\n",
        "def load_file(file_path):\n",
        "\n",
        "    \"\"\"\n",
        "\n",
        "    :param file_path: path to the json file\n",
        "\n",
        "    :return: an array in which each entry is tuple [review, classification label]\n",
        "\n",
        "    \"\"\"\n",
        "\n",
        "    with open(file_path) as json_file:\n",
        "\n",
        "        raw_data = json.load(json_file)\n",
        "\n",
        "        return convert_data(raw_data)\n",
        "\n",
        "\n",
        "\n",
        "def convert_data(raw_data):\n",
        "\n",
        "    data = []\n",
        "\n",
        "    for elem in raw_data:\n",
        "\n",
        "        data.append([elem[\"comment\"], elem[\"label\"]])\n",
        "\n",
        "    return data"
      ]
    },
    {
      "cell_type": "code",
      "source": [
        "import pandas as pd\n",
        "\n",
        "\n",
        "\n",
        "data = load_file(\"Bug_tt.json\")\n",
        "\n",
        "\n",
        "\n",
        "df = pd.DataFrame(data, columns = ['text', 'label'])\n",
        "\n",
        "df.head()"
      ],
      "metadata": {
        "id": "e5h3DpDNnQ9f"
      },
      "execution_count": null,
      "outputs": []
    }
  ]
}